{
 "cells": [
  {
   "cell_type": "code",
   "execution_count": 1,
   "metadata": {},
   "outputs": [
    {
     "name": "stdout",
     "output_type": "stream",
     "text": [
      "Collecting psycopg2\n",
      "  Downloading psycopg2-2.8.5-cp37-cp37m-win_amd64.whl (1.1 MB)\n",
      "Installing collected packages: psycopg2\n",
      "Successfully installed psycopg2-2.8.5\n",
      "Note: you may need to restart the kernel to use updated packages.\n"
     ]
    }
   ],
   "source": [
    "pip install psycopg2\n"
   ]
  },
  {
   "cell_type": "code",
   "execution_count": 3,
   "metadata": {},
   "outputs": [
    {
     "name": "stdout",
     "output_type": "stream",
     "text": [
      "connected\n",
      "              product  quantity  cost_p  selling_p     tcp     tsp\n",
      "0        PB_OPB-P106D        18    4850       8000   87300  144000\n",
      "1        PB_OPB-P661D        24    3050       6500   73200  156000\n",
      "2           WW_OFB-11        18    5050       7500   90900  135000\n",
      "3           WW_OSW-11        12   13500      16000  162000  192000\n",
      "4   CHG_CU60ZR+CD52BR        36    1500       2500   54000   90000\n",
      "5            CHG_U34S        36    1200       2000   43200   72000\n",
      "6            CHG_U63D        24    1950       2700   46800   64800\n",
      "7           CHG_60ARC        36    1500       2500   54000   90000\n",
      "8        CHG_OCW-E32S        36     950       1500   34200   54000\n",
      "9        CHG_OCW-C62D        36    1550       2500   55800   90000\n",
      "10       CHG_OCW-C92D        24    2300       3500   55200   84000\n",
      "11        CHG_OCC_21D        36    1400       2500   50400   90000\n",
      "12        AUD_OBS-52D        12    7950       9000   95400  108000\n",
      "13        AUD_OBS-33S        12    4000       5500   48000   66000\n",
      "14       AUD_OEB-E98D        10   10450      12500  104500  125000\n",
      "15       AUD_OEB-E96D        10    9850      12000   98500  120000\n",
      "16       AUD_OEB-E99D        12   10250      13000  123000  156000\n",
      "17       AUD_OEB-H66D        12    8850      11500  106200  138000\n",
      "18       AUD_OEB-E58D        24    5450       7500  130800  180000\n",
      "19        AUD_OEP-E33        48    2550       3500  122400  168000\n",
      "20         AUD_OEP-10        60     900       1500   54000   90000\n",
      "21  AUD_2BABA EDITION        18   10600      12500  190800  225000\n",
      "22        SC_OWS-E331        12    4000       4500   48000   54000\n",
      "23         CB_OCD-L21        24     900       1500   21600   36000\n",
      "24         CB_OCD-C21        24     850       1500   20400   36000\n",
      "25       PB_OPB-P202D        12    8350      11000  100200  132000\n",
      "Total tcp value is # 2070800\n",
      "Total tsp value is # 2895800\n",
      "825000\n"
     ]
    }
   ],
   "source": [
    "import psycopg2\n",
    "import pandas as pd\n",
    "import pandas.io.sql as psql\n",
    "\n",
    "conn = psycopg2.connect(dbname=\"postgres\", user= \"postgres\", password=\"computer\", host=\"localhost\", port=\"5432\")\n",
    "print('connected')\n",
    "cur = conn.cursor()\n",
    "df = psql.read_sql(\"Select * from oraimo_p\", conn) \n",
    "\n",
    "df['tcp'] = df['cost_p'] * df['quantity']\n",
    "df['tsp'] = df['selling_p'] * df['quantity']\n",
    "#df.at['Total', 'Stock_Value'] = df['Stock_Value'].sum()\n",
    "total_tcp = df['tcp'].sum()\n",
    "total_tsp = df['tsp'].sum()\n",
    "print(df)\n",
    "\n",
    "print('Total tcp value is #',total_tcp)\n",
    "print('Total tsp value is #',total_tsp)\n",
    "profit = total_tsp-total_tcp\n",
    "print(profit)\n"
   ]
  },
  {
   "cell_type": "code",
   "execution_count": null,
   "metadata": {},
   "outputs": [],
   "source": []
  }
 ],
 "metadata": {
  "kernelspec": {
   "display_name": "Python 3",
   "language": "python",
   "name": "python3"
  },
  "language_info": {
   "codemirror_mode": {
    "name": "ipython",
    "version": 3
   },
   "file_extension": ".py",
   "mimetype": "text/x-python",
   "name": "python",
   "nbconvert_exporter": "python",
   "pygments_lexer": "ipython3",
   "version": "3.7.6"
  }
 },
 "nbformat": 4,
 "nbformat_minor": 4
}
